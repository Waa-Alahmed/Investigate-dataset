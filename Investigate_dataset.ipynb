{
 "cells": [
  {
   "cell_type": "markdown",
   "id": "fee6e012",
   "metadata": {},
   "source": [
    "Data analysis using Python\n",
    "\n",
    "\n",
    "I chose the data set related to the no-show appointments.\n",
    "\n"
   ]
  },
  {
   "cell_type": "markdown",
   "id": "eca5ffe7",
   "metadata": {},
   "source": [
    "\n",
    "\n",
    "Arrange the contents of the file:\n",
    "\n",
    "1- research questions\n",
    "\n",
    "2- Data Wrangling and Limitations\n",
    "\n",
    "3- data analysis\n",
    "  a)First: we will download the data and package(numpy, pandas, matplotlib)\n",
    "  b)Second: Analyze the data and draw conclusions\n",
    "\n",
    "\n",
    "\n"
   ]
  },
  {
   "cell_type": "markdown",
   "id": "e80014c6",
   "metadata": {},
   "source": [
    "research questions:                                                                                                            \n",
    "\n",
    "Q1- What are the important factors for us to know if the patient will attend at the appointed time?\n",
    "\n",
    "Q2- What is the age group most in booking appointments? Explain this? Mention the average ages of all patients?\n",
    "\n",
    "Q3- What is the gender most in booking appointments males or females? Which one is more committed to attending?\n",
    "\n",
    "Q4- From which neighborhood do patients come more than the rest of the neighborhoods?\n",
    "\n",
    "Q5- Does having chronic diseases such as diabetes and blood pressure increase the percentage of patients booking appointments?\n",
    "the question applies to alcoholics and handcap as well?\n",
    "\n",
    "Q6- Does sending an SMS increase the percentage of commitment to attend appointments and vice versa? Explain this? \n",
    "\n",
    "Q7- What is the percentage of commitment to attend the appointment and non-attendance, and which is higher in general?\n",
    "\n",
    "\n",
    "\n"
   ]
  },
  {
   "cell_type": "markdown",
   "id": "f3b8e8da",
   "metadata": {},
   "source": [
    "Data Wrangling and some limitations:\n",
    "\n"
   ]
  },
  {
   "cell_type": "code",
   "execution_count": 16,
   "id": "87adb0b3",
   "metadata": {},
   "outputs": [
    {
     "data": {
      "text/plain": [
       "PatientId        float64\n",
       "Gender            object\n",
       "Age                int64\n",
       "Neighbourhood     object\n",
       "Scholarship        int64\n",
       "Hipertension       int64\n",
       "Diabetes           int64\n",
       "Alcoholism         int64\n",
       "Handcap            int64\n",
       "SMS_received       int64\n",
       "No-show           object\n",
       "dtype: object"
      ]
     },
     "execution_count": 16,
     "metadata": {},
     "output_type": "execute_result"
    }
   ],
   "source": [
    "# 1-Indicate the data type for each column\n",
    "\n",
    "\n",
    "New.dtypes"
   ]
  },
  {
   "cell_type": "code",
   "execution_count": 17,
   "id": "cd880f77",
   "metadata": {},
   "outputs": [
    {
     "name": "stdout",
     "output_type": "stream",
     "text": [
      "PatientId        0\n",
      "Gender           0\n",
      "Age              0\n",
      "Neighbourhood    0\n",
      "Scholarship      0\n",
      "Hipertension     0\n",
      "Diabetes         0\n",
      "Alcoholism       0\n",
      "Handcap          0\n",
      "SMS_received     0\n",
      "No-show          0\n",
      "dtype: int64\n"
     ]
    }
   ],
   "source": [
    "\n",
    "# 2-missing data\n",
    "\n",
    "print(New.isnull().sum())"
   ]
  },
  {
   "cell_type": "markdown",
   "id": "8214421e",
   "metadata": {},
   "source": [
    "We can see that there are no missing values for all columns."
   ]
  },
  {
   "cell_type": "code",
   "execution_count": 18,
   "id": "5ea569e8",
   "metadata": {},
   "outputs": [
    {
     "name": "stdout",
     "output_type": "stream",
     "text": [
      "<class 'pandas.core.frame.DataFrame'>\n",
      "RangeIndex: 110527 entries, 0 to 110526\n",
      "Data columns (total 11 columns):\n",
      " #   Column         Non-Null Count   Dtype  \n",
      "---  ------         --------------   -----  \n",
      " 0   PatientId      110527 non-null  float64\n",
      " 1   Gender         110527 non-null  object \n",
      " 2   Age            110527 non-null  int64  \n",
      " 3   Neighbourhood  110527 non-null  object \n",
      " 4   Scholarship    110527 non-null  int64  \n",
      " 5   Hipertension   110527 non-null  int64  \n",
      " 6   Diabetes       110527 non-null  int64  \n",
      " 7   Alcoholism     110527 non-null  int64  \n",
      " 8   Handcap        110527 non-null  int64  \n",
      " 9   SMS_received   110527 non-null  int64  \n",
      " 10  No-show        110527 non-null  object \n",
      "dtypes: float64(1), int64(7), object(3)\n",
      "memory usage: 9.3+ MB\n"
     ]
    }
   ],
   "source": [
    "\n",
    "# From here we can see both the data type and check for missing data\n",
    "\n",
    "New.info()"
   ]
  },
  {
   "cell_type": "markdown",
   "id": "ee73079b",
   "metadata": {},
   "source": [
    "\n",
    "3- Incorrect data\n",
    "\n",
    "We encountered this problem in the data analysis section, chapter one in the first and fifth parts\n",
    "in part one: we find five number for Handcap(0,1,2,3,4) and our values are true,false so We cannot receive all five values, so we shorted them to the numbers (0 and 1). \n",
    "0 for 0\n",
    "1 for 1,2,3,4\n",
    "\n",
    "in part V: We found an enter age  with a value of -1 and this value is false, so we deleted the row containing -1, and after solving the problem, the smallest number became 0.\n"
   ]
  },
  {
   "cell_type": "code",
   "execution_count": 15,
   "id": "9e6e004c",
   "metadata": {
    "scrolled": true
   },
   "outputs": [
    {
     "data": {
      "text/html": [
       "<div>\n",
       "<style scoped>\n",
       "    .dataframe tbody tr th:only-of-type {\n",
       "        vertical-align: middle;\n",
       "    }\n",
       "\n",
       "    .dataframe tbody tr th {\n",
       "        vertical-align: top;\n",
       "    }\n",
       "\n",
       "    .dataframe thead th {\n",
       "        text-align: right;\n",
       "    }\n",
       "</style>\n",
       "<table border=\"1\" class=\"dataframe\">\n",
       "  <thead>\n",
       "    <tr style=\"text-align: right;\">\n",
       "      <th></th>\n",
       "      <th>PatientId</th>\n",
       "      <th>Gender</th>\n",
       "      <th>Age</th>\n",
       "      <th>Neighbourhood</th>\n",
       "      <th>Scholarship</th>\n",
       "      <th>Hipertension</th>\n",
       "      <th>Diabetes</th>\n",
       "      <th>Alcoholism</th>\n",
       "      <th>Handcap</th>\n",
       "      <th>SMS_received</th>\n",
       "      <th>No-show</th>\n",
       "    </tr>\n",
       "  </thead>\n",
       "  <tbody>\n",
       "    <tr>\n",
       "      <th>0</th>\n",
       "      <td>2.987250e+13</td>\n",
       "      <td>F</td>\n",
       "      <td>62</td>\n",
       "      <td>JARDIM DA PENHA</td>\n",
       "      <td>0</td>\n",
       "      <td>1</td>\n",
       "      <td>0</td>\n",
       "      <td>0</td>\n",
       "      <td>0</td>\n",
       "      <td>0</td>\n",
       "      <td>No</td>\n",
       "    </tr>\n",
       "    <tr>\n",
       "      <th>1</th>\n",
       "      <td>5.589978e+14</td>\n",
       "      <td>M</td>\n",
       "      <td>56</td>\n",
       "      <td>JARDIM DA PENHA</td>\n",
       "      <td>0</td>\n",
       "      <td>0</td>\n",
       "      <td>0</td>\n",
       "      <td>0</td>\n",
       "      <td>0</td>\n",
       "      <td>0</td>\n",
       "      <td>No</td>\n",
       "    </tr>\n",
       "    <tr>\n",
       "      <th>2</th>\n",
       "      <td>4.262962e+12</td>\n",
       "      <td>F</td>\n",
       "      <td>62</td>\n",
       "      <td>MATA DA PRAIA</td>\n",
       "      <td>0</td>\n",
       "      <td>0</td>\n",
       "      <td>0</td>\n",
       "      <td>0</td>\n",
       "      <td>0</td>\n",
       "      <td>0</td>\n",
       "      <td>No</td>\n",
       "    </tr>\n",
       "    <tr>\n",
       "      <th>3</th>\n",
       "      <td>8.679512e+11</td>\n",
       "      <td>F</td>\n",
       "      <td>8</td>\n",
       "      <td>PONTAL DE CAMBURI</td>\n",
       "      <td>0</td>\n",
       "      <td>0</td>\n",
       "      <td>0</td>\n",
       "      <td>0</td>\n",
       "      <td>0</td>\n",
       "      <td>0</td>\n",
       "      <td>No</td>\n",
       "    </tr>\n",
       "    <tr>\n",
       "      <th>4</th>\n",
       "      <td>8.841186e+12</td>\n",
       "      <td>F</td>\n",
       "      <td>56</td>\n",
       "      <td>JARDIM DA PENHA</td>\n",
       "      <td>0</td>\n",
       "      <td>1</td>\n",
       "      <td>1</td>\n",
       "      <td>0</td>\n",
       "      <td>0</td>\n",
       "      <td>0</td>\n",
       "      <td>No</td>\n",
       "    </tr>\n",
       "  </tbody>\n",
       "</table>\n",
       "</div>"
      ],
      "text/plain": [
       "      PatientId Gender  Age      Neighbourhood  Scholarship  Hipertension  \\\n",
       "0  2.987250e+13      F   62    JARDIM DA PENHA            0             1   \n",
       "1  5.589978e+14      M   56    JARDIM DA PENHA            0             0   \n",
       "2  4.262962e+12      F   62      MATA DA PRAIA            0             0   \n",
       "3  8.679512e+11      F    8  PONTAL DE CAMBURI            0             0   \n",
       "4  8.841186e+12      F   56    JARDIM DA PENHA            0             1   \n",
       "\n",
       "   Diabetes  Alcoholism  Handcap  SMS_received No-show  \n",
       "0         0           0        0             0      No  \n",
       "1         0           0        0             0      No  \n",
       "2         0           0        0             0      No  \n",
       "3         0           0        0             0      No  \n",
       "4         1           0        0             0      No  "
      ]
     },
     "execution_count": 15,
     "metadata": {},
     "output_type": "execute_result"
    }
   ],
   "source": [
    "# 4-Delete unnecessary columns\n",
    "\n",
    "New=Patients.drop([\"AppointmentID\",\"ScheduledDay\",\"AppointmentDay\"], axis= 1)\n",
    "New.head()"
   ]
  },
  {
   "cell_type": "markdown",
   "id": "af62bab4",
   "metadata": {},
   "source": [
    "\n",
    "\n",
    "data analysis:\n",
    "\n"
   ]
  },
  {
   "cell_type": "markdown",
   "id": "74df3706",
   "metadata": {},
   "source": [
    "First: we will download the data and package(numpy, pandas, matplotlib)."
   ]
  },
  {
   "cell_type": "code",
   "execution_count": 8,
   "id": "af2209f1",
   "metadata": {
    "scrolled": true
   },
   "outputs": [
    {
     "data": {
      "text/html": [
       "<div>\n",
       "<style scoped>\n",
       "    .dataframe tbody tr th:only-of-type {\n",
       "        vertical-align: middle;\n",
       "    }\n",
       "\n",
       "    .dataframe tbody tr th {\n",
       "        vertical-align: top;\n",
       "    }\n",
       "\n",
       "    .dataframe thead th {\n",
       "        text-align: right;\n",
       "    }\n",
       "</style>\n",
       "<table border=\"1\" class=\"dataframe\">\n",
       "  <thead>\n",
       "    <tr style=\"text-align: right;\">\n",
       "      <th></th>\n",
       "      <th>PatientId</th>\n",
       "      <th>AppointmentID</th>\n",
       "      <th>Gender</th>\n",
       "      <th>ScheduledDay</th>\n",
       "      <th>AppointmentDay</th>\n",
       "      <th>Age</th>\n",
       "      <th>Neighbourhood</th>\n",
       "      <th>Scholarship</th>\n",
       "      <th>Hipertension</th>\n",
       "      <th>Diabetes</th>\n",
       "      <th>Alcoholism</th>\n",
       "      <th>Handcap</th>\n",
       "      <th>SMS_received</th>\n",
       "      <th>No-show</th>\n",
       "    </tr>\n",
       "  </thead>\n",
       "  <tbody>\n",
       "    <tr>\n",
       "      <th>0</th>\n",
       "      <td>2.987250e+13</td>\n",
       "      <td>5642903</td>\n",
       "      <td>F</td>\n",
       "      <td>2016-04-29T18:38:08Z</td>\n",
       "      <td>2016-04-29T00:00:00Z</td>\n",
       "      <td>62</td>\n",
       "      <td>JARDIM DA PENHA</td>\n",
       "      <td>0</td>\n",
       "      <td>1</td>\n",
       "      <td>0</td>\n",
       "      <td>0</td>\n",
       "      <td>0</td>\n",
       "      <td>0</td>\n",
       "      <td>No</td>\n",
       "    </tr>\n",
       "    <tr>\n",
       "      <th>1</th>\n",
       "      <td>5.589978e+14</td>\n",
       "      <td>5642503</td>\n",
       "      <td>M</td>\n",
       "      <td>2016-04-29T16:08:27Z</td>\n",
       "      <td>2016-04-29T00:00:00Z</td>\n",
       "      <td>56</td>\n",
       "      <td>JARDIM DA PENHA</td>\n",
       "      <td>0</td>\n",
       "      <td>0</td>\n",
       "      <td>0</td>\n",
       "      <td>0</td>\n",
       "      <td>0</td>\n",
       "      <td>0</td>\n",
       "      <td>No</td>\n",
       "    </tr>\n",
       "    <tr>\n",
       "      <th>2</th>\n",
       "      <td>4.262962e+12</td>\n",
       "      <td>5642549</td>\n",
       "      <td>F</td>\n",
       "      <td>2016-04-29T16:19:04Z</td>\n",
       "      <td>2016-04-29T00:00:00Z</td>\n",
       "      <td>62</td>\n",
       "      <td>MATA DA PRAIA</td>\n",
       "      <td>0</td>\n",
       "      <td>0</td>\n",
       "      <td>0</td>\n",
       "      <td>0</td>\n",
       "      <td>0</td>\n",
       "      <td>0</td>\n",
       "      <td>No</td>\n",
       "    </tr>\n",
       "    <tr>\n",
       "      <th>3</th>\n",
       "      <td>8.679512e+11</td>\n",
       "      <td>5642828</td>\n",
       "      <td>F</td>\n",
       "      <td>2016-04-29T17:29:31Z</td>\n",
       "      <td>2016-04-29T00:00:00Z</td>\n",
       "      <td>8</td>\n",
       "      <td>PONTAL DE CAMBURI</td>\n",
       "      <td>0</td>\n",
       "      <td>0</td>\n",
       "      <td>0</td>\n",
       "      <td>0</td>\n",
       "      <td>0</td>\n",
       "      <td>0</td>\n",
       "      <td>No</td>\n",
       "    </tr>\n",
       "    <tr>\n",
       "      <th>4</th>\n",
       "      <td>8.841186e+12</td>\n",
       "      <td>5642494</td>\n",
       "      <td>F</td>\n",
       "      <td>2016-04-29T16:07:23Z</td>\n",
       "      <td>2016-04-29T00:00:00Z</td>\n",
       "      <td>56</td>\n",
       "      <td>JARDIM DA PENHA</td>\n",
       "      <td>0</td>\n",
       "      <td>1</td>\n",
       "      <td>1</td>\n",
       "      <td>0</td>\n",
       "      <td>0</td>\n",
       "      <td>0</td>\n",
       "      <td>No</td>\n",
       "    </tr>\n",
       "  </tbody>\n",
       "</table>\n",
       "</div>"
      ],
      "text/plain": [
       "      PatientId  AppointmentID Gender          ScheduledDay  \\\n",
       "0  2.987250e+13        5642903      F  2016-04-29T18:38:08Z   \n",
       "1  5.589978e+14        5642503      M  2016-04-29T16:08:27Z   \n",
       "2  4.262962e+12        5642549      F  2016-04-29T16:19:04Z   \n",
       "3  8.679512e+11        5642828      F  2016-04-29T17:29:31Z   \n",
       "4  8.841186e+12        5642494      F  2016-04-29T16:07:23Z   \n",
       "\n",
       "         AppointmentDay  Age      Neighbourhood  Scholarship  Hipertension  \\\n",
       "0  2016-04-29T00:00:00Z   62    JARDIM DA PENHA            0             1   \n",
       "1  2016-04-29T00:00:00Z   56    JARDIM DA PENHA            0             0   \n",
       "2  2016-04-29T00:00:00Z   62      MATA DA PRAIA            0             0   \n",
       "3  2016-04-29T00:00:00Z    8  PONTAL DE CAMBURI            0             0   \n",
       "4  2016-04-29T00:00:00Z   56    JARDIM DA PENHA            0             1   \n",
       "\n",
       "   Diabetes  Alcoholism  Handcap  SMS_received No-show  \n",
       "0         0           0        0             0      No  \n",
       "1         0           0        0             0      No  \n",
       "2         0           0        0             0      No  \n",
       "3         0           0        0             0      No  \n",
       "4         1           0        0             0      No  "
      ]
     },
     "execution_count": 8,
     "metadata": {},
     "output_type": "execute_result"
    }
   ],
   "source": [
    "import pandas as pd\n",
    "import numpy as np\n",
    "import matplotlib.pyplot as plt\n",
    "import seaborn as sns\n",
    "Patients= pd.read_csv('data.csv')\n",
    "Patients.head()"
   ]
  },
  {
   "cell_type": "markdown",
   "id": "ea4ff29d",
   "metadata": {},
   "source": [
    "\n",
    "\n",
    "Second: Analyze the data and draw conclusions\n",
    "\n",
    "- Now we will mention some important information -"
   ]
  },
  {
   "cell_type": "code",
   "execution_count": 19,
   "id": "97fa3778",
   "metadata": {},
   "outputs": [
    {
     "data": {
      "text/plain": [
       "(110527, 11)"
      ]
     },
     "execution_count": 19,
     "metadata": {},
     "output_type": "execute_result"
    }
   ],
   "source": [
    "New.shape"
   ]
  },
  {
   "cell_type": "code",
   "execution_count": 20,
   "id": "07b6528a",
   "metadata": {},
   "outputs": [
    {
     "data": {
      "text/plain": [
       "PatientId        62299\n",
       "Gender               2\n",
       "Age                104\n",
       "Neighbourhood       81\n",
       "Scholarship          2\n",
       "Hipertension         2\n",
       "Diabetes             2\n",
       "Alcoholism           2\n",
       "Handcap              5\n",
       "SMS_received         2\n",
       "No-show              2\n",
       "dtype: int64"
      ]
     },
     "execution_count": 20,
     "metadata": {},
     "output_type": "execute_result"
    }
   ],
   "source": [
    "New.nunique()"
   ]
  },
  {
   "cell_type": "code",
   "execution_count": 21,
   "id": "3150c849",
   "metadata": {
    "scrolled": true
   },
   "outputs": [
    {
     "data": {
      "text/plain": [
       "PatientId        110527\n",
       "Gender           110527\n",
       "Age              110527\n",
       "Neighbourhood    110527\n",
       "Scholarship      110527\n",
       "Hipertension     110527\n",
       "Diabetes         110527\n",
       "Alcoholism       110527\n",
       "Handcap          110527\n",
       "SMS_received     110527\n",
       "No-show          110527\n",
       "dtype: int64"
      ]
     },
     "execution_count": 21,
     "metadata": {},
     "output_type": "execute_result"
    }
   ],
   "source": [
    "New.count()"
   ]
  },
  {
   "cell_type": "markdown",
   "id": "049eaf05",
   "metadata": {},
   "source": [
    "We do not have lost values, as it is clear that all data is complete."
   ]
  },
  {
   "cell_type": "code",
   "execution_count": 22,
   "id": "dbf22e5d",
   "metadata": {
    "scrolled": true
   },
   "outputs": [
    {
     "data": {
      "text/html": [
       "<div>\n",
       "<style scoped>\n",
       "    .dataframe tbody tr th:only-of-type {\n",
       "        vertical-align: middle;\n",
       "    }\n",
       "\n",
       "    .dataframe tbody tr th {\n",
       "        vertical-align: top;\n",
       "    }\n",
       "\n",
       "    .dataframe thead th {\n",
       "        text-align: right;\n",
       "    }\n",
       "</style>\n",
       "<table border=\"1\" class=\"dataframe\">\n",
       "  <thead>\n",
       "    <tr style=\"text-align: right;\">\n",
       "      <th></th>\n",
       "      <th>PatientId</th>\n",
       "      <th>Age</th>\n",
       "      <th>Scholarship</th>\n",
       "      <th>Hipertension</th>\n",
       "      <th>Diabetes</th>\n",
       "      <th>Alcoholism</th>\n",
       "      <th>Handcap</th>\n",
       "      <th>SMS_received</th>\n",
       "    </tr>\n",
       "  </thead>\n",
       "  <tbody>\n",
       "    <tr>\n",
       "      <th>count</th>\n",
       "      <td>1.105270e+05</td>\n",
       "      <td>110527.000000</td>\n",
       "      <td>110527.000000</td>\n",
       "      <td>110527.000000</td>\n",
       "      <td>110527.000000</td>\n",
       "      <td>110527.000000</td>\n",
       "      <td>110527.000000</td>\n",
       "      <td>110527.000000</td>\n",
       "    </tr>\n",
       "    <tr>\n",
       "      <th>mean</th>\n",
       "      <td>1.474963e+14</td>\n",
       "      <td>37.088874</td>\n",
       "      <td>0.098266</td>\n",
       "      <td>0.197246</td>\n",
       "      <td>0.071865</td>\n",
       "      <td>0.030400</td>\n",
       "      <td>0.022248</td>\n",
       "      <td>0.321026</td>\n",
       "    </tr>\n",
       "    <tr>\n",
       "      <th>std</th>\n",
       "      <td>2.560949e+14</td>\n",
       "      <td>23.110205</td>\n",
       "      <td>0.297675</td>\n",
       "      <td>0.397921</td>\n",
       "      <td>0.258265</td>\n",
       "      <td>0.171686</td>\n",
       "      <td>0.161543</td>\n",
       "      <td>0.466873</td>\n",
       "    </tr>\n",
       "    <tr>\n",
       "      <th>min</th>\n",
       "      <td>3.921784e+04</td>\n",
       "      <td>-1.000000</td>\n",
       "      <td>0.000000</td>\n",
       "      <td>0.000000</td>\n",
       "      <td>0.000000</td>\n",
       "      <td>0.000000</td>\n",
       "      <td>0.000000</td>\n",
       "      <td>0.000000</td>\n",
       "    </tr>\n",
       "    <tr>\n",
       "      <th>25%</th>\n",
       "      <td>4.172614e+12</td>\n",
       "      <td>18.000000</td>\n",
       "      <td>0.000000</td>\n",
       "      <td>0.000000</td>\n",
       "      <td>0.000000</td>\n",
       "      <td>0.000000</td>\n",
       "      <td>0.000000</td>\n",
       "      <td>0.000000</td>\n",
       "    </tr>\n",
       "    <tr>\n",
       "      <th>50%</th>\n",
       "      <td>3.173184e+13</td>\n",
       "      <td>37.000000</td>\n",
       "      <td>0.000000</td>\n",
       "      <td>0.000000</td>\n",
       "      <td>0.000000</td>\n",
       "      <td>0.000000</td>\n",
       "      <td>0.000000</td>\n",
       "      <td>0.000000</td>\n",
       "    </tr>\n",
       "    <tr>\n",
       "      <th>75%</th>\n",
       "      <td>9.439172e+13</td>\n",
       "      <td>55.000000</td>\n",
       "      <td>0.000000</td>\n",
       "      <td>0.000000</td>\n",
       "      <td>0.000000</td>\n",
       "      <td>0.000000</td>\n",
       "      <td>0.000000</td>\n",
       "      <td>1.000000</td>\n",
       "    </tr>\n",
       "    <tr>\n",
       "      <th>max</th>\n",
       "      <td>9.999816e+14</td>\n",
       "      <td>115.000000</td>\n",
       "      <td>1.000000</td>\n",
       "      <td>1.000000</td>\n",
       "      <td>1.000000</td>\n",
       "      <td>1.000000</td>\n",
       "      <td>4.000000</td>\n",
       "      <td>1.000000</td>\n",
       "    </tr>\n",
       "  </tbody>\n",
       "</table>\n",
       "</div>"
      ],
      "text/plain": [
       "          PatientId            Age    Scholarship   Hipertension  \\\n",
       "count  1.105270e+05  110527.000000  110527.000000  110527.000000   \n",
       "mean   1.474963e+14      37.088874       0.098266       0.197246   \n",
       "std    2.560949e+14      23.110205       0.297675       0.397921   \n",
       "min    3.921784e+04      -1.000000       0.000000       0.000000   \n",
       "25%    4.172614e+12      18.000000       0.000000       0.000000   \n",
       "50%    3.173184e+13      37.000000       0.000000       0.000000   \n",
       "75%    9.439172e+13      55.000000       0.000000       0.000000   \n",
       "max    9.999816e+14     115.000000       1.000000       1.000000   \n",
       "\n",
       "            Diabetes     Alcoholism        Handcap   SMS_received  \n",
       "count  110527.000000  110527.000000  110527.000000  110527.000000  \n",
       "mean        0.071865       0.030400       0.022248       0.321026  \n",
       "std         0.258265       0.171686       0.161543       0.466873  \n",
       "min         0.000000       0.000000       0.000000       0.000000  \n",
       "25%         0.000000       0.000000       0.000000       0.000000  \n",
       "50%         0.000000       0.000000       0.000000       0.000000  \n",
       "75%         0.000000       0.000000       0.000000       1.000000  \n",
       "max         1.000000       1.000000       4.000000       1.000000  "
      ]
     },
     "execution_count": 22,
     "metadata": {},
     "output_type": "execute_result"
    }
   ],
   "source": [
    "New.describe()"
   ]
  },
  {
   "cell_type": "markdown",
   "id": "f565319a",
   "metadata": {},
   "source": [
    "\n",
    "\n",
    "part One:\n"
   ]
  },
  {
   "cell_type": "markdown",
   "id": "421cca21",
   "metadata": {},
   "source": [
    "Here we will see the percentage of people with diabetes and hipertension. Do you think the percentage of people with diabetes will be higher than those who are not infected in booking appointments and hipertension? We will see .."
   ]
  },
  {
   "cell_type": "markdown",
   "id": "ae9f6305",
   "metadata": {},
   "source": [
    "- Hipertension:"
   ]
  },
  {
   "cell_type": "code",
   "execution_count": 23,
   "id": "4bef81f0",
   "metadata": {},
   "outputs": [
    {
     "name": "stdout",
     "output_type": "stream",
     "text": [
      "Counter({0: 88726, 1: 21801})\n"
     ]
    }
   ],
   "source": [
    "from collections import Counter\n",
    "Z= Counter(New['Hipertension'])\n",
    "print(Z)"
   ]
  },
  {
   "cell_type": "code",
   "execution_count": 24,
   "id": "256c6811",
   "metadata": {},
   "outputs": [
    {
     "name": "stdout",
     "output_type": "stream",
     "text": [
      "The number of people with Hipertension is 21801\n",
      "The number of people without Hipertension is 88726\n"
     ]
    }
   ],
   "source": [
    "Z1=21801\n",
    "Z2=88726\n",
    "print(\"The number of people with Hipertension is\",Z1)\n",
    "print(\"The number of people without Hipertension is\",Z2)"
   ]
  },
  {
   "cell_type": "code",
   "execution_count": 25,
   "id": "b6b5a2a0",
   "metadata": {},
   "outputs": [
    {
     "data": {
      "image/png": "[encoded data removed]",
      "text/plain": [
       "<Figure size 432x288 with 1 Axes>"
      ]
     },
     "metadata": {},
     "output_type": "display_data"
    }
   ],
   "source": [
    "Zz= np.array([Z1,Z2])\n",
    "mylabels= [\"people with Hipertension\",\"people without Hipertension\"]\n",
    "plt.pie(Zz, labels= mylabels)\n",
    "plt.title(\"The number of people with Hipertension compared to those without\")\n",
    "plt.show()"
   ]
  },
  {
   "cell_type": "code",
   "execution_count": 26,
   "id": "74d26741",
   "metadata": {
    "scrolled": false
   },
   "outputs": [
    {
     "data": {
      "image/png": "[encoded data removed]",
      "text/plain": [
       "<Figure size 432x288 with 1 Axes>"
      ]
     },
     "metadata": {
      "needs_background": "light"
     },
     "output_type": "display_data"
    }
   ],
   "source": [
    "fig= plt.figure()\n",
    "ax= fig.add_axes([0,0,1,1])\n",
    "langs=[\"people with Hipertension\",\"people without Hipertension\"]\n",
    "students=[Z1,Z2]\n",
    "ax.bar(langs,students)\n",
    "plt.xlabel(\"The patients\")\n",
    "plt.ylabel(\"frequency\")\n",
    "plt.title(\"The number of people with Hipertension compared to those without\")\n",
    "plt.show()"
   ]
  },
  {
   "cell_type": "markdown",
   "id": "300691c8",
   "metadata": {},
   "source": [
    "- Diabetes:"
   ]
  },
  {
   "cell_type": "code",
   "execution_count": 27,
   "id": "f963e575",
   "metadata": {},
   "outputs": [
    {
     "name": "stdout",
     "output_type": "stream",
     "text": [
      "Counter({0: 102584, 1: 7943})\n"
     ]
    }
   ],
   "source": [
    "from collections import Counter\n",
    "W= Counter(New['Diabetes'])\n",
    "print(W)"
   ]
  },
  {
   "cell_type": "code",
   "execution_count": 28,
   "id": "794ca7f3",
   "metadata": {},
   "outputs": [
    {
     "name": "stdout",
     "output_type": "stream",
     "text": [
      "People with diabetes is 7943\n",
      "People without diabetes is 102584\n"
     ]
    }
   ],
   "source": [
    "W1=7943\n",
    "W2=102584\n",
    "print(\"People with diabetes is\",W1) \n",
    "print(\"People without diabetes is\",W2)"
   ]
  },
  {
   "cell_type": "code",
   "execution_count": 29,
   "id": "7164c17b",
   "metadata": {},
   "outputs": [
    {
     "data": {
      "image/png": "[encoded data removed]",
      "text/plain": [
       "<Figure size 432x288 with 1 Axes>"
      ]
     },
     "metadata": {},
     "output_type": "display_data"
    }
   ],
   "source": [
    "Ww= np.array([W1,W2])\n",
    "mylabels= [\"people with diabetes\",\"people without diabetes\"]\n",
    "plt.pie(Ww, labels= mylabels)\n",
    "plt.title(\"The number of people with diabetes compared to those without\")\n",
    "plt.show()"
   ]
  },
  {
   "cell_type": "code",
   "execution_count": 30,
   "id": "5d85af62",
   "metadata": {},
   "outputs": [
    {
     "data": {
      "image/png": "[encoded data removed]",
      "text/plain": [
       "<Figure size 432x288 with 1 Axes>"
      ]
     },
     "metadata": {
      "needs_background": "light"
     },
     "output_type": "display_data"
    }
   ],
   "source": [
    "fig= plt.figure()\n",
    "ax= fig.add_axes([0,0,1,1])\n",
    "langs=[\"people with diabetes \",\"people without diabetes\"]\n",
    "students=[W1,W2]\n",
    "ax.bar(langs,students)\n",
    "plt.xlabel(\"The patients\")\n",
    "plt.ylabel(\"frequency\")\n",
    "plt.title(\"The number of people with diabetes compared to those without\")\n",
    "plt.show()"
   ]
  },
  {
   "cell_type": "markdown",
   "id": "0c36b520",
   "metadata": {},
   "source": [
    "Now we can draw conclusions based on the graph, We see that people who are not infected are much more than infected people, so the answer to the question is that the number of appointments was not increased because of diabetes and Hipertension patients, but rather they are one of the categories of patients, and we are also see that people with Hipertension are more than the number of people with diabetes.\n"
   ]
  },
  {
   "cell_type": "markdown",
   "id": "16505ab9",
   "metadata": {},
   "source": [
    "And here we will answer the same question as the previous one: is the percentage of alcoholics greater than the patients? Explain it?"
   ]
  },
  {
   "cell_type": "code",
   "execution_count": 31,
   "id": "80bea676",
   "metadata": {},
   "outputs": [
    {
     "name": "stdout",
     "output_type": "stream",
     "text": [
      "Counter({0: 107167, 1: 3360})\n"
     ]
    }
   ],
   "source": [
    "from collections import Counter\n",
    "R= Counter(New['Alcoholism'])\n",
    "print(R)"
   ]
  },
  {
   "cell_type": "code",
   "execution_count": 32,
   "id": "19fa6604",
   "metadata": {},
   "outputs": [
    {
     "name": "stdout",
     "output_type": "stream",
     "text": [
      "People with Alcoholism is 3360\n",
      "People without Alcoholism is 107167\n"
     ]
    }
   ],
   "source": [
    "R1=3360\n",
    "R2=107167\n",
    "print(\"People with Alcoholism is\",R1) \n",
    "print(\"People without Alcoholism is\",R2)"
   ]
  },
  {
   "cell_type": "code",
   "execution_count": 33,
   "id": "329cabc1",
   "metadata": {},
   "outputs": [
    {
     "data": {
      "image/png": "[encoded data removed]",
      "text/plain": [
       "<Figure size 432x288 with 1 Axes>"
      ]
     },
     "metadata": {},
     "output_type": "display_data"
    }
   ],
   "source": [
    "Rr= np.array([R1,R2])\n",
    "mylabels= [\"people with Alcoholism\",\"people without Alcoholism\"]\n",
    "plt.pie(Rr, labels= mylabels)\n",
    "plt.title(\"The number of people with Alcoholism compared to those without\")\n",
    "\n",
    "plt.show()"
   ]
  },
  {
   "cell_type": "code",
   "execution_count": 34,
   "id": "65b3059d",
   "metadata": {},
   "outputs": [
    {
     "data": {
      "image/png": "[encoded data removed]",
      "text/plain": [
       "<Figure size 432x288 with 1 Axes>"
      ]
     },
     "metadata": {
      "needs_background": "light"
     },
     "output_type": "display_data"
    }
   ],
   "source": [
    "fig= plt.figure()\n",
    "ax= fig.add_axes([0,0,1,1])\n",
    "langs=[\"people with Alcoholism \",\"people without Alcoholism\"]\n",
    "students=[R1,R2]\n",
    "ax.bar(langs,students)\n",
    "plt.xlabel(\"The patients\")\n",
    "plt.ylabel(\"frequency\")\n",
    "plt.title(\"The number of people with Alcoholism compared to those without\")\n",
    "plt.show()"
   ]
  },
  {
   "cell_type": "markdown",
   "id": "fe60b492",
   "metadata": {},
   "source": [
    "We note from the drawing that the percentage of alcoholics is very small, almost unnoticeable, and the reason behind this may be due to more than one reason, as if they are a small group that covers only a little of society and they do not have enough awareness to review their health, etc.\n"
   ]
  },
  {
   "cell_type": "markdown",
   "id": "4900e9af",
   "metadata": {},
   "source": [
    "here we will talk about the handicap and we will notice a problem in the data that we will solve in one of the ways and make it clear.\n"
   ]
  },
  {
   "cell_type": "markdown",
   "id": "7234518a",
   "metadata": {},
   "source": [
    "We notice that there are five numbers, each of them denotes a specific thing, which is (), so what is the problem?!!\n",
    "The problem is that there are five numbers that we will solve as follows.\n",
    "Since the data has two indications, which are true and false, we will consider the false equal to zero and the true equal to one and what is greater than it i.e.false=0 , true=1,2,3,4.\n"
   ]
  },
  {
   "cell_type": "code",
   "execution_count": 40,
   "id": "8af8b208",
   "metadata": {
    "scrolled": true
   },
   "outputs": [
    {
     "data": {
      "text/html": [
       "<div>\n",
       "<style scoped>\n",
       "    .dataframe tbody tr th:only-of-type {\n",
       "        vertical-align: middle;\n",
       "    }\n",
       "\n",
       "    .dataframe tbody tr th {\n",
       "        vertical-align: top;\n",
       "    }\n",
       "\n",
       "    .dataframe thead th {\n",
       "        text-align: right;\n",
       "    }\n",
       "</style>\n",
       "<table border=\"1\" class=\"dataframe\">\n",
       "  <thead>\n",
       "    <tr style=\"text-align: right;\">\n",
       "      <th></th>\n",
       "      <th>PatientId</th>\n",
       "      <th>Gender</th>\n",
       "      <th>Age</th>\n",
       "      <th>Neighbourhood</th>\n",
       "      <th>Scholarship</th>\n",
       "      <th>Hipertension</th>\n",
       "      <th>Diabetes</th>\n",
       "      <th>Alcoholism</th>\n",
       "      <th>Handcap</th>\n",
       "      <th>SMS_received</th>\n",
       "      <th>No-show</th>\n",
       "    </tr>\n",
       "  </thead>\n",
       "  <tbody>\n",
       "    <tr>\n",
       "      <th>946</th>\n",
       "      <td>7.282582e+13</td>\n",
       "      <td>M</td>\n",
       "      <td>94</td>\n",
       "      <td>BELA VISTA</td>\n",
       "      <td>0</td>\n",
       "      <td>1</td>\n",
       "      <td>1</td>\n",
       "      <td>0</td>\n",
       "      <td>2</td>\n",
       "      <td>1</td>\n",
       "      <td>No</td>\n",
       "    </tr>\n",
       "    <tr>\n",
       "      <th>1665</th>\n",
       "      <td>1.242919e+13</td>\n",
       "      <td>M</td>\n",
       "      <td>64</td>\n",
       "      <td>SANTA MARTHA</td>\n",
       "      <td>0</td>\n",
       "      <td>1</td>\n",
       "      <td>0</td>\n",
       "      <td>1</td>\n",
       "      <td>2</td>\n",
       "      <td>1</td>\n",
       "      <td>No</td>\n",
       "    </tr>\n",
       "    <tr>\n",
       "      <th>1666</th>\n",
       "      <td>1.242919e+13</td>\n",
       "      <td>M</td>\n",
       "      <td>64</td>\n",
       "      <td>SANTA MARTHA</td>\n",
       "      <td>0</td>\n",
       "      <td>1</td>\n",
       "      <td>0</td>\n",
       "      <td>1</td>\n",
       "      <td>2</td>\n",
       "      <td>0</td>\n",
       "      <td>No</td>\n",
       "    </tr>\n",
       "    <tr>\n",
       "      <th>2071</th>\n",
       "      <td>1.242919e+13</td>\n",
       "      <td>M</td>\n",
       "      <td>64</td>\n",
       "      <td>SANTA MARTHA</td>\n",
       "      <td>0</td>\n",
       "      <td>1</td>\n",
       "      <td>0</td>\n",
       "      <td>1</td>\n",
       "      <td>2</td>\n",
       "      <td>0</td>\n",
       "      <td>No</td>\n",
       "    </tr>\n",
       "    <tr>\n",
       "      <th>2091</th>\n",
       "      <td>1.491829e+13</td>\n",
       "      <td>F</td>\n",
       "      <td>11</td>\n",
       "      <td>ANDORINHAS</td>\n",
       "      <td>0</td>\n",
       "      <td>0</td>\n",
       "      <td>0</td>\n",
       "      <td>0</td>\n",
       "      <td>2</td>\n",
       "      <td>0</td>\n",
       "      <td>No</td>\n",
       "    </tr>\n",
       "    <tr>\n",
       "      <th>...</th>\n",
       "      <td>...</td>\n",
       "      <td>...</td>\n",
       "      <td>...</td>\n",
       "      <td>...</td>\n",
       "      <td>...</td>\n",
       "      <td>...</td>\n",
       "      <td>...</td>\n",
       "      <td>...</td>\n",
       "      <td>...</td>\n",
       "      <td>...</td>\n",
       "      <td>...</td>\n",
       "    </tr>\n",
       "    <tr>\n",
       "      <th>108376</th>\n",
       "      <td>2.387212e+14</td>\n",
       "      <td>F</td>\n",
       "      <td>44</td>\n",
       "      <td>ROMÃO</td>\n",
       "      <td>0</td>\n",
       "      <td>1</td>\n",
       "      <td>1</td>\n",
       "      <td>0</td>\n",
       "      <td>2</td>\n",
       "      <td>1</td>\n",
       "      <td>No</td>\n",
       "    </tr>\n",
       "    <tr>\n",
       "      <th>109484</th>\n",
       "      <td>3.589495e+14</td>\n",
       "      <td>M</td>\n",
       "      <td>64</td>\n",
       "      <td>DA PENHA</td>\n",
       "      <td>0</td>\n",
       "      <td>1</td>\n",
       "      <td>1</td>\n",
       "      <td>0</td>\n",
       "      <td>2</td>\n",
       "      <td>0</td>\n",
       "      <td>No</td>\n",
       "    </tr>\n",
       "    <tr>\n",
       "      <th>109733</th>\n",
       "      <td>5.662976e+14</td>\n",
       "      <td>F</td>\n",
       "      <td>34</td>\n",
       "      <td>JUCUTUQUARA</td>\n",
       "      <td>0</td>\n",
       "      <td>0</td>\n",
       "      <td>0</td>\n",
       "      <td>0</td>\n",
       "      <td>2</td>\n",
       "      <td>1</td>\n",
       "      <td>No</td>\n",
       "    </tr>\n",
       "    <tr>\n",
       "      <th>109975</th>\n",
       "      <td>4.522185e+13</td>\n",
       "      <td>M</td>\n",
       "      <td>39</td>\n",
       "      <td>PRAIA DO SUÁ</td>\n",
       "      <td>1</td>\n",
       "      <td>0</td>\n",
       "      <td>0</td>\n",
       "      <td>0</td>\n",
       "      <td>2</td>\n",
       "      <td>1</td>\n",
       "      <td>No</td>\n",
       "    </tr>\n",
       "    <tr>\n",
       "      <th>110107</th>\n",
       "      <td>7.143714e+14</td>\n",
       "      <td>F</td>\n",
       "      <td>44</td>\n",
       "      <td>RESISTÊNCIA</td>\n",
       "      <td>0</td>\n",
       "      <td>0</td>\n",
       "      <td>0</td>\n",
       "      <td>0</td>\n",
       "      <td>2</td>\n",
       "      <td>1</td>\n",
       "      <td>No</td>\n",
       "    </tr>\n",
       "  </tbody>\n",
       "</table>\n",
       "<p>199 rows × 11 columns</p>\n",
       "</div>"
      ],
      "text/plain": [
       "           PatientId Gender  Age Neighbourhood  Scholarship  Hipertension  \\\n",
       "946     7.282582e+13      M   94    BELA VISTA            0             1   \n",
       "1665    1.242919e+13      M   64  SANTA MARTHA            0             1   \n",
       "1666    1.242919e+13      M   64  SANTA MARTHA            0             1   \n",
       "2071    1.242919e+13      M   64  SANTA MARTHA            0             1   \n",
       "2091    1.491829e+13      F   11    ANDORINHAS            0             0   \n",
       "...              ...    ...  ...           ...          ...           ...   \n",
       "108376  2.387212e+14      F   44         ROMÃO            0             1   \n",
       "109484  3.589495e+14      M   64      DA PENHA            0             1   \n",
       "109733  5.662976e+14      F   34   JUCUTUQUARA            0             0   \n",
       "109975  4.522185e+13      M   39  PRAIA DO SUÁ            1             0   \n",
       "110107  7.143714e+14      F   44   RESISTÊNCIA            0             0   \n",
       "\n",
       "        Diabetes  Alcoholism  Handcap  SMS_received No-show  \n",
       "946            1           0        2             1      No  \n",
       "1665           0           1        2             1      No  \n",
       "1666           0           1        2             0      No  \n",
       "2071           0           1        2             0      No  \n",
       "2091           0           0        2             0      No  \n",
       "...          ...         ...      ...           ...     ...  \n",
       "108376         1           0        2             1      No  \n",
       "109484         1           0        2             0      No  \n",
       "109733         0           0        2             1      No  \n",
       "109975         0           0        2             1      No  \n",
       "110107         0           0        2             1      No  \n",
       "\n",
       "[199 rows x 11 columns]"
      ]
     },
     "execution_count": 40,
     "metadata": {},
     "output_type": "execute_result"
    }
   ],
   "source": [
    "New.loc[(New.Handcap !=0)&(New.Handcap !=1), ]"
   ]
  },
  {
   "cell_type": "code",
   "execution_count": 41,
   "id": "0bdef24a",
   "metadata": {},
   "outputs": [],
   "source": [
    "New.loc[(New.Handcap !=0)&(New.Handcap !=1),['Handcap']]=1"
   ]
  },
  {
   "cell_type": "code",
   "execution_count": 42,
   "id": "93a05047",
   "metadata": {},
   "outputs": [
    {
     "name": "stdout",
     "output_type": "stream",
     "text": [
      "Counter({0: 108286, 1: 2241})\n"
     ]
    }
   ],
   "source": [
    "from collections import Counter\n",
    "T= Counter(New['Handcap'])\n",
    "print(T)"
   ]
  },
  {
   "cell_type": "code",
   "execution_count": 43,
   "id": "fabfd70c",
   "metadata": {},
   "outputs": [
    {
     "name": "stdout",
     "output_type": "stream",
     "text": [
      "People with Handcap is 2241\n",
      "People without Handcap is 108285\n"
     ]
    }
   ],
   "source": [
    "T1=2241\n",
    "T2=108285\n",
    "print(\"People with Handcap is\",T1) \n",
    "print(\"People without Handcap is\",T2)"
   ]
  },
  {
   "cell_type": "code",
   "execution_count": 44,
   "id": "abc77d5a",
   "metadata": {},
   "outputs": [
    {
     "data": {
      "image/png": "[encoded data removed]",
      "text/plain": [
       "<Figure size 432x288 with 1 Axes>"
      ]
     },
     "metadata": {},
     "output_type": "display_data"
    }
   ],
   "source": [
    "Tt= np.array([T1,T2])\n",
    "mylabels= [\"people with Handcap\",\"people without Handcap\"]\n",
    "plt.pie(Tt, labels= mylabels)\n",
    "plt.title(\"The number of people with Handcap compared to those without\")\n",
    "\n",
    "plt.show()"
   ]
  },
  {
   "cell_type": "code",
   "execution_count": 45,
   "id": "052b8131",
   "metadata": {},
   "outputs": [
    {
     "data": {
      "image/png": "[encoded data removed]",
      "text/plain": [
       "<Figure size 432x288 with 1 Axes>"
      ]
     },
     "metadata": {
      "needs_background": "light"
     },
     "output_type": "display_data"
    }
   ],
   "source": [
    "fig= plt.figure()\n",
    "ax= fig.add_axes([0,0,1,1])\n",
    "langs=[\"people with Handcap\",\"people without Handcap\"]\n",
    "students=[T1,T2]\n",
    "ax.bar(langs,students)\n",
    "plt.xlabel(\"The patients\")\n",
    "plt.ylabel(\"frequency\")\n",
    "plt.title(\"The number of people with Handcap compared to those without\")\n",
    "plt.show()"
   ]
  },
  {
   "cell_type": "markdown",
   "id": "586e71ef",
   "metadata": {},
   "source": [
    "We note that people with handcap represent a very small percentage compared to the general Patients."
   ]
  },
  {
   "cell_type": "markdown",
   "id": "fc6189d7",
   "metadata": {},
   "source": [
    "\n",
    "\n",
    "part two:"
   ]
  },
  {
   "cell_type": "markdown",
   "id": "1f68fd50",
   "metadata": {},
   "source": [
    "\n",
    "\n",
    "We will see the sex data. Are males more than females in booking appointments? Or vice versa.. Then we will see who is more committed to attend appointments, males or females?"
   ]
  },
  {
   "cell_type": "code",
   "execution_count": 46,
   "id": "24b4d75a",
   "metadata": {},
   "outputs": [
    {
     "name": "stdout",
     "output_type": "stream",
     "text": [
      "Counter({'F': 71840, 'M': 38687})\n"
     ]
    }
   ],
   "source": [
    "from collections import Counter\n",
    "MF= Counter(New['Gender'])\n",
    "print(MF)"
   ]
  },
  {
   "cell_type": "code",
   "execution_count": 47,
   "id": "ceb75a7e",
   "metadata": {},
   "outputs": [
    {
     "name": "stdout",
     "output_type": "stream",
     "text": [
      "The number of females is 71840\n",
      "The number of males is 38687\n"
     ]
    }
   ],
   "source": [
    "F=71840\n",
    "M=38687\n",
    "print(\"The number of females is\",F)\n",
    "print(\"The number of males is\",M)"
   ]
  },
  {
   "cell_type": "code",
   "execution_count": 48,
   "id": "20f840f2",
   "metadata": {},
   "outputs": [
    {
     "data": {
      "image/png": "[encoded data removed]",
      "text/plain": [
       "<Figure size 432x288 with 1 Axes>"
      ]
     },
     "metadata": {},
     "output_type": "display_data"
    }
   ],
   "source": [
    "Q= np.array([F,M])\n",
    "mylabels= [\"Female\",\"male\"]\n",
    "plt.pie(Q, labels= mylabels)\n",
    "plt.title(\"Comparing the numbers of females and males\")\n",
    "plt.show()"
   ]
  },
  {
   "cell_type": "markdown",
   "id": "cfbced32",
   "metadata": {},
   "source": [
    "Here we clearly see that females are more than half of the total number, meaning that females are more than males.\n",
    "\n",
    "So let's see who are the most committed.."
   ]
  },
  {
   "cell_type": "code",
   "execution_count": 49,
   "id": "5db76749",
   "metadata": {
    "scrolled": true
   },
   "outputs": [
    {
     "data": {
      "text/html": [
       "<div>\n",
       "<style scoped>\n",
       "    .dataframe tbody tr th:only-of-type {\n",
       "        vertical-align: middle;\n",
       "    }\n",
       "\n",
       "    .dataframe tbody tr th {\n",
       "        vertical-align: top;\n",
       "    }\n",
       "\n",
       "    .dataframe thead th {\n",
       "        text-align: right;\n",
       "    }\n",
       "</style>\n",
       "<table border=\"1\" class=\"dataframe\">\n",
       "  <thead>\n",
       "    <tr style=\"text-align: right;\">\n",
       "      <th></th>\n",
       "      <th></th>\n",
       "      <th>PatientId</th>\n",
       "      <th>Age</th>\n",
       "      <th>Neighbourhood</th>\n",
       "      <th>Scholarship</th>\n",
       "      <th>Hipertension</th>\n",
       "      <th>Diabetes</th>\n",
       "      <th>Alcoholism</th>\n",
       "      <th>Handcap</th>\n",
       "      <th>SMS_received</th>\n",
       "    </tr>\n",
       "    <tr>\n",
       "      <th>Gender</th>\n",
       "      <th>No-show</th>\n",
       "      <th></th>\n",
       "      <th></th>\n",
       "      <th></th>\n",
       "      <th></th>\n",
       "      <th></th>\n",
       "      <th></th>\n",
       "      <th></th>\n",
       "      <th></th>\n",
       "      <th></th>\n",
       "    </tr>\n",
       "  </thead>\n",
       "  <tbody>\n",
       "    <tr>\n",
       "      <th rowspan=\"2\" valign=\"top\">F</th>\n",
       "      <th>No</th>\n",
       "      <td>57246</td>\n",
       "      <td>57246</td>\n",
       "      <td>57246</td>\n",
       "      <td>57246</td>\n",
       "      <td>57246</td>\n",
       "      <td>57246</td>\n",
       "      <td>57246</td>\n",
       "      <td>57246</td>\n",
       "      <td>57246</td>\n",
       "    </tr>\n",
       "    <tr>\n",
       "      <th>Yes</th>\n",
       "      <td>14594</td>\n",
       "      <td>14594</td>\n",
       "      <td>14594</td>\n",
       "      <td>14594</td>\n",
       "      <td>14594</td>\n",
       "      <td>14594</td>\n",
       "      <td>14594</td>\n",
       "      <td>14594</td>\n",
       "      <td>14594</td>\n",
       "    </tr>\n",
       "    <tr>\n",
       "      <th rowspan=\"2\" valign=\"top\">M</th>\n",
       "      <th>No</th>\n",
       "      <td>30962</td>\n",
       "      <td>30962</td>\n",
       "      <td>30962</td>\n",
       "      <td>30962</td>\n",
       "      <td>30962</td>\n",
       "      <td>30962</td>\n",
       "      <td>30962</td>\n",
       "      <td>30962</td>\n",
       "      <td>30962</td>\n",
       "    </tr>\n",
       "    <tr>\n",
       "      <th>Yes</th>\n",
       "      <td>7725</td>\n",
       "      <td>7725</td>\n",
       "      <td>7725</td>\n",
       "      <td>7725</td>\n",
       "      <td>7725</td>\n",
       "      <td>7725</td>\n",
       "      <td>7725</td>\n",
       "      <td>7725</td>\n",
       "      <td>7725</td>\n",
       "    </tr>\n",
       "  </tbody>\n",
       "</table>\n",
       "</div>"
      ],
      "text/plain": [
       "                PatientId    Age  Neighbourhood  Scholarship  Hipertension  \\\n",
       "Gender No-show                                                               \n",
       "F      No           57246  57246          57246        57246         57246   \n",
       "       Yes          14594  14594          14594        14594         14594   \n",
       "M      No           30962  30962          30962        30962         30962   \n",
       "       Yes           7725   7725           7725         7725          7725   \n",
       "\n",
       "                Diabetes  Alcoholism  Handcap  SMS_received  \n",
       "Gender No-show                                               \n",
       "F      No          57246       57246    57246         57246  \n",
       "       Yes         14594       14594    14594         14594  \n",
       "M      No          30962       30962    30962         30962  \n",
       "       Yes          7725        7725     7725          7725  "
      ]
     },
     "execution_count": 49,
     "metadata": {},
     "output_type": "execute_result"
    }
   ],
   "source": [
    "New.groupby([\"Gender\",\"No-show\"]).count()"
   ]
  },
  {
   "cell_type": "code",
   "execution_count": 50,
   "id": "6e5470f9",
   "metadata": {},
   "outputs": [
    {
     "name": "stdout",
     "output_type": "stream",
     "text": [
      "The number of females who attended the appointment is 57246\n",
      "The number of females who not attended the appointment is 14594\n",
      "The number of males who attended the appointment is 30962\n",
      "The number of males who not attended the appointment is 7725\n",
      "total number is 110527\n"
     ]
    }
   ],
   "source": [
    "FN= 57246\n",
    "FY= 14594\n",
    "MN= 30962\n",
    "MY= 7725\n",
    "Total= (FN+FY+MN+MY)\n",
    "print(\"The number of females who attended the appointment is\",FN)\n",
    "print(\"The number of females who not attended the appointment is\",FY)\n",
    "print(\"The number of males who attended the appointment is\",MN)\n",
    "print(\"The number of males who not attended the appointment is\",MY)\n",
    "print(\"total number is\",Total)\n"
   ]
  },
  {
   "cell_type": "code",
   "execution_count": 51,
   "id": "9a915ed5",
   "metadata": {},
   "outputs": [
    {
     "data": {
      "image/png": "[encoded data removed]",
      "text/plain": [
       "<Figure size 432x288 with 1 Axes>"
      ]
     },
     "metadata": {
      "needs_background": "light"
     },
     "output_type": "display_data"
    }
   ],
   "source": [
    "X=['F','M']\n",
    "Yattended= [57246,30962]\n",
    "Znotattended= [14594,7725]\n",
    "X_axis= np.arange(len(X))\n",
    "plt.bar(X_axis-0.2,Yattended, 0.4, label='attended')\n",
    "plt.bar(X_axis+0.2,Znotattended, 0.4, label='not_attended')\n",
    "plt.xticks(X_axis, X)\n",
    "plt.xlabel(\"Category\")\n",
    "plt.ylabel(\"frequency\")\n",
    "plt.title(\"Comparison of the most committed to attendance between females and males\")\n",
    "plt.legend()\n",
    "plt.show()"
   ]
  },
  {
   "cell_type": "markdown",
   "id": "940489ec",
   "metadata": {},
   "source": [
    "Comparing to the previous chart can be difficult, so let's try another chart.."
   ]
  },
  {
   "cell_type": "code",
   "execution_count": 52,
   "id": "3fabb2e6",
   "metadata": {},
   "outputs": [
    {
     "data": {
      "image/png": "[encoded data removed]",
      "text/plain": [
       "<Figure size 432x288 with 1 Axes>"
      ]
     },
     "metadata": {},
     "output_type": "display_data"
    },
    {
     "data": {
      "image/png": "[encoded data removed]",
      "text/plain": [
       "<Figure size 432x288 with 1 Axes>"
      ]
     },
     "metadata": {},
     "output_type": "display_data"
    }
   ],
   "source": [
    "U= np.array([FN,FY])\n",
    "mylabels= [\"Female (attendance) \",\"Female ( not attendance)\"]\n",
    "plt.pie(U, labels= mylabels)\n",
    "plt.title(\"Comparison of the most committed to attendance between females and males--Female\")\n",
    "\n",
    "plt.show()\n",
    "V= np.array([MN,MY])\n",
    "mylabels= [\"male (attendance) \",\"male ( not attendance)\"]\n",
    "plt.pie(V, labels= mylabels)\n",
    "plt.title(\"Comparison of the most committed to attendance between females and males--male\")          \n",
    "plt.show()"
   ]
  },
  {
   "cell_type": "markdown",
   "id": "72a23fb5",
   "metadata": {},
   "source": [
    "We note that there is no difference in the amount of commitment for both males and females, so they are equal in commitment. Greatl!!"
   ]
  },
  {
   "cell_type": "markdown",
   "id": "06c302d1",
   "metadata": {},
   "source": [
    "\n",
    "\n",
    "the third part:\n",
    "\n"
   ]
  },
  {
   "cell_type": "markdown",
   "id": "0f0facd4",
   "metadata": {},
   "source": [
    "And here we will see the percentage of those who attended the appointment and those who did not attend in general.."
   ]
  },
  {
   "cell_type": "code",
   "execution_count": 53,
   "id": "6ad8911b",
   "metadata": {},
   "outputs": [
    {
     "name": "stdout",
     "output_type": "stream",
     "text": [
      "Counter({'No': 88208, 'Yes': 22319})\n"
     ]
    }
   ],
   "source": [
    "from collections import Counter\n",
    "NY= Counter(New['No-show'])\n",
    "print(NY)"
   ]
  },
  {
   "cell_type": "code",
   "execution_count": 54,
   "id": "277d4dd4",
   "metadata": {},
   "outputs": [
    {
     "name": "stdout",
     "output_type": "stream",
     "text": [
      "The percentage of attendance at appointments is 79.8067440534892 %\n",
      "The percentage of not attendance at appointments is 20.193255946510806 %\n"
     ]
    }
   ],
   "source": [
    "NO= (88208/110527)*100\n",
    "YES= (22319/110527)*100\n",
    "print(\"The percentage of attendance at appointments is\",NO,\"%\")\n",
    "print(\"The percentage of not attendance at appointments is\",YES,\"%\")"
   ]
  },
  {
   "cell_type": "code",
   "execution_count": 55,
   "id": "b24a48e9",
   "metadata": {},
   "outputs": [
    {
     "data": {
      "image/png": "[encoded data removed]",
      "text/plain": [
       "<Figure size 432x288 with 1 Axes>"
      ]
     },
     "metadata": {},
     "output_type": "display_data"
    }
   ],
   "source": [
    "A= np.array([NO,YES])\n",
    "mylabels= [\"attendance 79.8%\",\"not attendance 20.19%\"]\n",
    "plt.pie(A, labels= mylabels)\n",
    "plt.title(\"The amount of patients attending and not attending appointments\")\n",
    "plt.show()"
   ]
  },
  {
   "cell_type": "markdown",
   "id": "e9b18593",
   "metadata": {},
   "source": [
    "We see that the percentage of people who attended the appointment is four times more than those who did not attend."
   ]
  },
  {
   "cell_type": "markdown",
   "id": "14043f07",
   "metadata": {},
   "source": [
    "\n",
    "\n",
    "part Four:\n",
    "\n"
   ]
  },
  {
   "cell_type": "markdown",
   "id": "02d38309",
   "metadata": {},
   "source": [
    "We will compare neighborhoods to find out what are neighborhoods patients live in and come from.\n",
    "\n",
    "- This may benefit us in providing health centers in the areas where there is a lot of housing in order to facilitate the patients-"
   ]
  },
  {
   "cell_type": "code",
   "execution_count": 56,
   "id": "8198c8f4",
   "metadata": {},
   "outputs": [
    {
     "name": "stdout",
     "output_type": "stream",
     "text": [
      "Counter({'JARDIM CAMBURI': 7717, 'MARIA ORTIZ': 5805, 'RESISTÊNCIA': 4431, 'JARDIM DA PENHA': 3877, 'ITARARÉ': 3514, 'CENTRO': 3334, 'TABUAZEIRO': 3132, 'SANTA MARTHA': 3131, 'JESUS DE NAZARETH': 2853, 'BONFIM': 2773, 'SANTO ANTÔNIO': 2746, 'SANTO ANDRÉ': 2571, 'CARATOÍRA': 2565, 'JABOUR': 2509, 'SÃO PEDRO': 2448, 'ILHA DO PRÍNCIPE': 2266, 'NOVA PALESTINA': 2264, 'ANDORINHAS': 2262, 'DA PENHA': 2217, 'ROMÃO': 2215, 'GURIGICA': 2018, 'SÃO JOSÉ': 1977, 'BELA VISTA': 1907, 'MARUÍPE': 1902, 'FORTE SÃO JOÃO': 1889, 'ILHA DE SANTA MARIA': 1885, 'SÃO CRISTÓVÃO': 1836, 'REDENÇÃO': 1553, 'SÃO BENEDITO': 1439, 'JOANA D´ARC': 1427, 'CRUZAMENTO': 1398, 'CONSOLAÇÃO': 1376, 'SANTA TEREZA': 1332, 'PRAIA DO SUÁ': 1288, 'SANTOS DUMONT': 1276, 'GRANDE VITÓRIA': 1071, 'ILHA DAS CAIEIRAS': 1071, 'INHANGUETÁ': 1057, 'PRAIA DO CANTO': 1035, 'BENTO FERREIRA': 858, 'VILA RUBIM': 851, 'CONQUISTA': 849, 'DO QUADRO': 849, 'REPÚBLICA': 835, 'MONTE BELO': 824, 'PARQUE MOSCOSO': 802, 'GOIABEIRAS': 700, 'JUCUTUQUARA': 694, 'FONTE GRANDE': 682, 'MATA DA PRAIA': 644, 'DO CABRAL': 560, 'SANTOS REIS': 547, 'ESTRELINHA': 538, 'SANTA CLARA': 506, 'SOLON BORGES': 469, 'PIEDADE': 452, 'SANTA CECÍLIA': 448, 'SANTA LÚCIA': 438, 'SANTA LUÍZA': 428, 'BARRO VERMELHO': 423, 'DO MOSCOSO': 413, 'MÁRIO CYPRESTE': 371, 'BOA VISTA': 312, 'COMDUSA': 310, 'DE LOURDES': 305, 'ARIOVALDO FAVALESSA': 282, 'ANTÔNIO HONÓRIO': 271, 'FRADINHOS': 258, 'ENSEADA DO SUÁ': 235, 'SANTA HELENA': 178, 'HORTO': 175, 'UNIVERSITÁRIO': 152, 'SEGURANÇA DO LAR': 145, 'NAZARETH': 135, 'MORADA DE CAMBURI': 96, 'PONTAL DE CAMBURI': 69, 'ILHA DO BOI': 35, 'ILHA DO FRADE': 10, 'AEROPORTO': 8, 'ILHAS OCEÂNICAS DE TRINDADE': 2, 'PARQUE INDUSTRIAL': 1})\n"
     ]
    }
   ],
   "source": [
    "from collections import Counter\n",
    "L= Counter(New['Neighbourhood'])\n",
    "print(L)"
   ]
  },
  {
   "cell_type": "code",
   "execution_count": 57,
   "id": "6dbcf5fd",
   "metadata": {},
   "outputs": [
    {
     "data": {
      "text/plain": [
       "Text(0.5, 1.0, 'Calculating the number of patients for each neighborhoods from which patients were booked')"
      ]
     },
     "execution_count": 57,
     "metadata": {},
     "output_type": "execute_result"
    },
    {
     "data": {
      "image/png": "[encoded data removed]",
      "text/plain": [
       "<Figure size 1080x1080 with 1 Axes>"
      ]
     },
     "metadata": {
      "needs_background": "light"
     },
     "output_type": "display_data"
    }
   ],
   "source": [
    "Patients['Neighbourhood'].value_counts().plot(kind='bar',figsize=(15,15));\n",
    "plt.xlabel(\"neighborhoods\")\n",
    "plt.ylabel(\"frequency\")\n",
    "plt.title(\"Calculating the number of patients for each neighborhoods from which patients were booked\")"
   ]
  },
  {
   "cell_type": "markdown",
   "id": "93653a0f",
   "metadata": {},
   "source": [
    "We see the five neighborhoods that ranked first in the number of reservations Patients came from:\n",
    "1- JARDIM CAMBURI\n",
    "2- MARIA ORTIZ\n",
    "3- RESISTÊNCIA\n",
    "4- JARDIM DA PENHA\n",
    "5- ITARARÉ"
   ]
  },
  {
   "cell_type": "markdown",
   "id": "41f7c6a2",
   "metadata": {},
   "source": [
    "\n",
    "\n",
    "Part V:\n",
    "\n"
   ]
  },
  {
   "cell_type": "markdown",
   "id": "c3e17ef9",
   "metadata": {},
   "source": [
    "In this section, we will analyze age-related data."
   ]
  },
  {
   "cell_type": "code",
   "execution_count": 58,
   "id": "4b46c246",
   "metadata": {},
   "outputs": [
    {
     "data": {
      "text/plain": [
       "count    110527.000000\n",
       "mean         37.088874\n",
       "std          23.110205\n",
       "min          -1.000000\n",
       "25%          18.000000\n",
       "50%          37.000000\n",
       "75%          55.000000\n",
       "max         115.000000\n",
       "Name: Age, dtype: float64"
      ]
     },
     "execution_count": 58,
     "metadata": {},
     "output_type": "execute_result"
    }
   ],
   "source": [
    " New['Age'].describe()"
   ]
  },
  {
   "cell_type": "code",
   "execution_count": 59,
   "id": "f2b69aef",
   "metadata": {},
   "outputs": [
    {
     "name": "stdout",
     "output_type": "stream",
     "text": [
      "average age is 37.088874\n"
     ]
    }
   ],
   "source": [
    "Avg= 37.088874\n",
    "print(\"average age is\",Avg)"
   ]
  },
  {
   "cell_type": "markdown",
   "id": "8a729b34",
   "metadata": {},
   "source": [
    "After we know the average and some statistics, we will graph the age groups.."
   ]
  },
  {
   "cell_type": "code",
   "execution_count": 60,
   "id": "abc98ad6",
   "metadata": {
    "scrolled": false
   },
   "outputs": [
    {
     "data": {
      "text/html": [
       "<div>\n",
       "<style scoped>\n",
       "    .dataframe tbody tr th:only-of-type {\n",
       "        vertical-align: middle;\n",
       "    }\n",
       "\n",
       "    .dataframe tbody tr th {\n",
       "        vertical-align: top;\n",
       "    }\n",
       "\n",
       "    .dataframe thead th {\n",
       "        text-align: right;\n",
       "    }\n",
       "</style>\n",
       "<table border=\"1\" class=\"dataframe\">\n",
       "  <thead>\n",
       "    <tr style=\"text-align: right;\">\n",
       "      <th></th>\n",
       "      <th></th>\n",
       "      <th>PatientId</th>\n",
       "      <th>Gender</th>\n",
       "      <th>Neighbourhood</th>\n",
       "      <th>Scholarship</th>\n",
       "      <th>Hipertension</th>\n",
       "      <th>Diabetes</th>\n",
       "      <th>Alcoholism</th>\n",
       "      <th>Handcap</th>\n",
       "      <th>SMS_received</th>\n",
       "    </tr>\n",
       "    <tr>\n",
       "      <th>Age</th>\n",
       "      <th>No-show</th>\n",
       "      <th></th>\n",
       "      <th></th>\n",
       "      <th></th>\n",
       "      <th></th>\n",
       "      <th></th>\n",
       "      <th></th>\n",
       "      <th></th>\n",
       "      <th></th>\n",
       "      <th></th>\n",
       "    </tr>\n",
       "  </thead>\n",
       "  <tbody>\n",
       "    <tr>\n",
       "      <th>-1</th>\n",
       "      <th>No</th>\n",
       "      <td>1</td>\n",
       "      <td>1</td>\n",
       "      <td>1</td>\n",
       "      <td>1</td>\n",
       "      <td>1</td>\n",
       "      <td>1</td>\n",
       "      <td>1</td>\n",
       "      <td>1</td>\n",
       "      <td>1</td>\n",
       "    </tr>\n",
       "    <tr>\n",
       "      <th rowspan=\"2\" valign=\"top\">0</th>\n",
       "      <th>No</th>\n",
       "      <td>2900</td>\n",
       "      <td>2900</td>\n",
       "      <td>2900</td>\n",
       "      <td>2900</td>\n",
       "      <td>2900</td>\n",
       "      <td>2900</td>\n",
       "      <td>2900</td>\n",
       "      <td>2900</td>\n",
       "      <td>2900</td>\n",
       "    </tr>\n",
       "    <tr>\n",
       "      <th>Yes</th>\n",
       "      <td>639</td>\n",
       "      <td>639</td>\n",
       "      <td>639</td>\n",
       "      <td>639</td>\n",
       "      <td>639</td>\n",
       "      <td>639</td>\n",
       "      <td>639</td>\n",
       "      <td>639</td>\n",
       "      <td>639</td>\n",
       "    </tr>\n",
       "    <tr>\n",
       "      <th rowspan=\"2\" valign=\"top\">1</th>\n",
       "      <th>No</th>\n",
       "      <td>1858</td>\n",
       "      <td>1858</td>\n",
       "      <td>1858</td>\n",
       "      <td>1858</td>\n",
       "      <td>1858</td>\n",
       "      <td>1858</td>\n",
       "      <td>1858</td>\n",
       "      <td>1858</td>\n",
       "      <td>1858</td>\n",
       "    </tr>\n",
       "    <tr>\n",
       "      <th>Yes</th>\n",
       "      <td>415</td>\n",
       "      <td>415</td>\n",
       "      <td>415</td>\n",
       "      <td>415</td>\n",
       "      <td>415</td>\n",
       "      <td>415</td>\n",
       "      <td>415</td>\n",
       "      <td>415</td>\n",
       "      <td>415</td>\n",
       "    </tr>\n",
       "    <tr>\n",
       "      <th>...</th>\n",
       "      <th>...</th>\n",
       "      <td>...</td>\n",
       "      <td>...</td>\n",
       "      <td>...</td>\n",
       "      <td>...</td>\n",
       "      <td>...</td>\n",
       "      <td>...</td>\n",
       "      <td>...</td>\n",
       "      <td>...</td>\n",
       "      <td>...</td>\n",
       "    </tr>\n",
       "    <tr>\n",
       "      <th>99</th>\n",
       "      <th>No</th>\n",
       "      <td>1</td>\n",
       "      <td>1</td>\n",
       "      <td>1</td>\n",
       "      <td>1</td>\n",
       "      <td>1</td>\n",
       "      <td>1</td>\n",
       "      <td>1</td>\n",
       "      <td>1</td>\n",
       "      <td>1</td>\n",
       "    </tr>\n",
       "    <tr>\n",
       "      <th>100</th>\n",
       "      <th>No</th>\n",
       "      <td>4</td>\n",
       "      <td>4</td>\n",
       "      <td>4</td>\n",
       "      <td>4</td>\n",
       "      <td>4</td>\n",
       "      <td>4</td>\n",
       "      <td>4</td>\n",
       "      <td>4</td>\n",
       "      <td>4</td>\n",
       "    </tr>\n",
       "    <tr>\n",
       "      <th>102</th>\n",
       "      <th>No</th>\n",
       "      <td>2</td>\n",
       "      <td>2</td>\n",
       "      <td>2</td>\n",
       "      <td>2</td>\n",
       "      <td>2</td>\n",
       "      <td>2</td>\n",
       "      <td>2</td>\n",
       "      <td>2</td>\n",
       "      <td>2</td>\n",
       "    </tr>\n",
       "    <tr>\n",
       "      <th rowspan=\"2\" valign=\"top\">115</th>\n",
       "      <th>No</th>\n",
       "      <td>2</td>\n",
       "      <td>2</td>\n",
       "      <td>2</td>\n",
       "      <td>2</td>\n",
       "      <td>2</td>\n",
       "      <td>2</td>\n",
       "      <td>2</td>\n",
       "      <td>2</td>\n",
       "      <td>2</td>\n",
       "    </tr>\n",
       "    <tr>\n",
       "      <th>Yes</th>\n",
       "      <td>3</td>\n",
       "      <td>3</td>\n",
       "      <td>3</td>\n",
       "      <td>3</td>\n",
       "      <td>3</td>\n",
       "      <td>3</td>\n",
       "      <td>3</td>\n",
       "      <td>3</td>\n",
       "      <td>3</td>\n",
       "    </tr>\n",
       "  </tbody>\n",
       "</table>\n",
       "<p>204 rows × 9 columns</p>\n",
       "</div>"
      ],
      "text/plain": [
       "              PatientId  Gender  Neighbourhood  Scholarship  Hipertension  \\\n",
       "Age  No-show                                                                \n",
       "-1   No               1       1              1            1             1   \n",
       " 0   No            2900    2900           2900         2900          2900   \n",
       "     Yes            639     639            639          639           639   \n",
       " 1   No            1858    1858           1858         1858          1858   \n",
       "     Yes            415     415            415          415           415   \n",
       "...                 ...     ...            ...          ...           ...   \n",
       " 99  No               1       1              1            1             1   \n",
       " 100 No               4       4              4            4             4   \n",
       " 102 No               2       2              2            2             2   \n",
       " 115 No               2       2              2            2             2   \n",
       "     Yes              3       3              3            3             3   \n",
       "\n",
       "              Diabetes  Alcoholism  Handcap  SMS_received  \n",
       "Age  No-show                                               \n",
       "-1   No              1           1        1             1  \n",
       " 0   No           2900        2900     2900          2900  \n",
       "     Yes           639         639      639           639  \n",
       " 1   No           1858        1858     1858          1858  \n",
       "     Yes           415         415      415           415  \n",
       "...                ...         ...      ...           ...  \n",
       " 99  No              1           1        1             1  \n",
       " 100 No              4           4        4             4  \n",
       " 102 No              2           2        2             2  \n",
       " 115 No              2           2        2             2  \n",
       "     Yes             3           3        3             3  \n",
       "\n",
       "[204 rows x 9 columns]"
      ]
     },
     "execution_count": 60,
     "metadata": {},
     "output_type": "execute_result"
    }
   ],
   "source": [
    "New.groupby([\"Age\",\"No-show\"]).count()"
   ]
  },
  {
   "attachments": {},
   "cell_type": "markdown",
   "id": "aaf42f01",
   "metadata": {},
   "source": [
    "Now we see a noticeable problem, which is the presence of incorrect data, i.e. an error in the entry, which is the value (-1).\n",
    "\n",
    "So we will delete the row containing the value (-1) to get rid of this problem."
   ]
  },
  {
   "cell_type": "code",
   "execution_count": 63,
   "id": "70b7f581",
   "metadata": {},
   "outputs": [],
   "source": [
    "minus_one=New.loc[New.Age==-1]\n",
    "New.drop(New.loc[New.Age==-1].index,axis=0,errors='ignore',inplace=True)"
   ]
  },
  {
   "cell_type": "code",
   "execution_count": 65,
   "id": "d646d6f6",
   "metadata": {},
   "outputs": [
    {
     "data": {
      "text/html": [
       "<div>\n",
       "<style scoped>\n",
       "    .dataframe tbody tr th:only-of-type {\n",
       "        vertical-align: middle;\n",
       "    }\n",
       "\n",
       "    .dataframe tbody tr th {\n",
       "        vertical-align: top;\n",
       "    }\n",
       "\n",
       "    .dataframe thead th {\n",
       "        text-align: right;\n",
       "    }\n",
       "</style>\n",
       "<table border=\"1\" class=\"dataframe\">\n",
       "  <thead>\n",
       "    <tr style=\"text-align: right;\">\n",
       "      <th></th>\n",
       "      <th>PatientId</th>\n",
       "      <th>Age</th>\n",
       "      <th>Scholarship</th>\n",
       "      <th>Hipertension</th>\n",
       "      <th>Diabetes</th>\n",
       "      <th>Alcoholism</th>\n",
       "      <th>Handcap</th>\n",
       "      <th>SMS_received</th>\n",
       "    </tr>\n",
       "  </thead>\n",
       "  <tbody>\n",
       "    <tr>\n",
       "      <th>count</th>\n",
       "      <td>1.105260e+05</td>\n",
       "      <td>110526.000000</td>\n",
       "      <td>110526.000000</td>\n",
       "      <td>110526.000000</td>\n",
       "      <td>110526.000000</td>\n",
       "      <td>110526.000000</td>\n",
       "      <td>110526.000000</td>\n",
       "      <td>110526.000000</td>\n",
       "    </tr>\n",
       "    <tr>\n",
       "      <th>mean</th>\n",
       "      <td>1.474934e+14</td>\n",
       "      <td>37.089219</td>\n",
       "      <td>0.098266</td>\n",
       "      <td>0.197248</td>\n",
       "      <td>0.071865</td>\n",
       "      <td>0.030400</td>\n",
       "      <td>0.020276</td>\n",
       "      <td>0.321029</td>\n",
       "    </tr>\n",
       "    <tr>\n",
       "      <th>std</th>\n",
       "      <td>2.560943e+14</td>\n",
       "      <td>23.110026</td>\n",
       "      <td>0.297676</td>\n",
       "      <td>0.397923</td>\n",
       "      <td>0.258266</td>\n",
       "      <td>0.171686</td>\n",
       "      <td>0.140943</td>\n",
       "      <td>0.466874</td>\n",
       "    </tr>\n",
       "    <tr>\n",
       "      <th>min</th>\n",
       "      <td>3.921784e+04</td>\n",
       "      <td>0.000000</td>\n",
       "      <td>0.000000</td>\n",
       "      <td>0.000000</td>\n",
       "      <td>0.000000</td>\n",
       "      <td>0.000000</td>\n",
       "      <td>0.000000</td>\n",
       "      <td>0.000000</td>\n",
       "    </tr>\n",
       "    <tr>\n",
       "      <th>25%</th>\n",
       "      <td>4.172536e+12</td>\n",
       "      <td>18.000000</td>\n",
       "      <td>0.000000</td>\n",
       "      <td>0.000000</td>\n",
       "      <td>0.000000</td>\n",
       "      <td>0.000000</td>\n",
       "      <td>0.000000</td>\n",
       "      <td>0.000000</td>\n",
       "    </tr>\n",
       "    <tr>\n",
       "      <th>50%</th>\n",
       "      <td>3.173184e+13</td>\n",
       "      <td>37.000000</td>\n",
       "      <td>0.000000</td>\n",
       "      <td>0.000000</td>\n",
       "      <td>0.000000</td>\n",
       "      <td>0.000000</td>\n",
       "      <td>0.000000</td>\n",
       "      <td>0.000000</td>\n",
       "    </tr>\n",
       "    <tr>\n",
       "      <th>75%</th>\n",
       "      <td>9.438963e+13</td>\n",
       "      <td>55.000000</td>\n",
       "      <td>0.000000</td>\n",
       "      <td>0.000000</td>\n",
       "      <td>0.000000</td>\n",
       "      <td>0.000000</td>\n",
       "      <td>0.000000</td>\n",
       "      <td>1.000000</td>\n",
       "    </tr>\n",
       "    <tr>\n",
       "      <th>max</th>\n",
       "      <td>9.999816e+14</td>\n",
       "      <td>115.000000</td>\n",
       "      <td>1.000000</td>\n",
       "      <td>1.000000</td>\n",
       "      <td>1.000000</td>\n",
       "      <td>1.000000</td>\n",
       "      <td>1.000000</td>\n",
       "      <td>1.000000</td>\n",
       "    </tr>\n",
       "  </tbody>\n",
       "</table>\n",
       "</div>"
      ],
      "text/plain": [
       "          PatientId            Age    Scholarship   Hipertension  \\\n",
       "count  1.105260e+05  110526.000000  110526.000000  110526.000000   \n",
       "mean   1.474934e+14      37.089219       0.098266       0.197248   \n",
       "std    2.560943e+14      23.110026       0.297676       0.397923   \n",
       "min    3.921784e+04       0.000000       0.000000       0.000000   \n",
       "25%    4.172536e+12      18.000000       0.000000       0.000000   \n",
       "50%    3.173184e+13      37.000000       0.000000       0.000000   \n",
       "75%    9.438963e+13      55.000000       0.000000       0.000000   \n",
       "max    9.999816e+14     115.000000       1.000000       1.000000   \n",
       "\n",
       "            Diabetes     Alcoholism        Handcap   SMS_received  \n",
       "count  110526.000000  110526.000000  110526.000000  110526.000000  \n",
       "mean        0.071865       0.030400       0.020276       0.321029  \n",
       "std         0.258266       0.171686       0.140943       0.466874  \n",
       "min         0.000000       0.000000       0.000000       0.000000  \n",
       "25%         0.000000       0.000000       0.000000       0.000000  \n",
       "50%         0.000000       0.000000       0.000000       0.000000  \n",
       "75%         0.000000       0.000000       0.000000       1.000000  \n",
       "max         1.000000       1.000000       1.000000       1.000000  "
      ]
     },
     "execution_count": 65,
     "metadata": {},
     "output_type": "execute_result"
    }
   ],
   "source": [
    "New.describe()"
   ]
  },
  {
   "cell_type": "markdown",
   "id": "024c61b4",
   "metadata": {},
   "source": [
    "After we have solved the problem, we will draw a histogram for the age groups to show the most age groups to book appointments.."
   ]
  },
  {
   "cell_type": "code",
   "execution_count": 66,
   "id": "59a0ae95",
   "metadata": {},
   "outputs": [
    {
     "data": {
      "text/plain": [
       "Text(0.5, 1.0, 'Classification of age groups')"
      ]
     },
     "execution_count": 66,
     "metadata": {},
     "output_type": "execute_result"
    },
    {
     "data": {
      "image/png": "[encoded data removed]",
      "text/plain": [
       "<Figure size 432x288 with 1 Axes>"
      ]
     },
     "metadata": {
      "needs_background": "light"
     },
     "output_type": "display_data"
    }
   ],
   "source": [
    "New['Age'].hist()\n",
    "plt.xlabel(\"age categories\")\n",
    "plt.ylabel(\"frequency\")\n",
    "plt.title(\"Classification of age groups\")"
   ]
  },
  {
   "cell_type": "markdown",
   "id": "11c7d47c",
   "metadata": {},
   "source": [
    "The age groups most booked appointments are:\n",
    "1- From 0 to 10 approx\n",
    "2- From 47 to 57 approx\n",
    "3- From 23 to 35 approx"
   ]
  },
  {
   "cell_type": "markdown",
   "id": "cb2c0058",
   "metadata": {},
   "source": [
    "\n",
    "\n",
    "Sixth part:\n",
    "\n"
   ]
  },
  {
   "cell_type": "markdown",
   "id": "ab0b8b47",
   "metadata": {},
   "source": [
    "In this part, we will see the relationship of the number of messages to patients attending appointments. Will they be more committed when they receive a larger number of messages, or does it not affect? We will see.."
   ]
  },
  {
   "cell_type": "code",
   "execution_count": 67,
   "id": "659eeff0",
   "metadata": {},
   "outputs": [
    {
     "data": {
      "text/html": [
       "<div>\n",
       "<style scoped>\n",
       "    .dataframe tbody tr th:only-of-type {\n",
       "        vertical-align: middle;\n",
       "    }\n",
       "\n",
       "    .dataframe tbody tr th {\n",
       "        vertical-align: top;\n",
       "    }\n",
       "\n",
       "    .dataframe thead th {\n",
       "        text-align: right;\n",
       "    }\n",
       "</style>\n",
       "<table border=\"1\" class=\"dataframe\">\n",
       "  <thead>\n",
       "    <tr style=\"text-align: right;\">\n",
       "      <th></th>\n",
       "      <th></th>\n",
       "      <th>PatientId</th>\n",
       "      <th>Gender</th>\n",
       "      <th>Age</th>\n",
       "      <th>Neighbourhood</th>\n",
       "      <th>Scholarship</th>\n",
       "      <th>Hipertension</th>\n",
       "      <th>Diabetes</th>\n",
       "      <th>Alcoholism</th>\n",
       "      <th>Handcap</th>\n",
       "    </tr>\n",
       "    <tr>\n",
       "      <th>SMS_received</th>\n",
       "      <th>No-show</th>\n",
       "      <th></th>\n",
       "      <th></th>\n",
       "      <th></th>\n",
       "      <th></th>\n",
       "      <th></th>\n",
       "      <th></th>\n",
       "      <th></th>\n",
       "      <th></th>\n",
       "      <th></th>\n",
       "    </tr>\n",
       "  </thead>\n",
       "  <tbody>\n",
       "    <tr>\n",
       "      <th rowspan=\"2\" valign=\"top\">0</th>\n",
       "      <th>No</th>\n",
       "      <td>62509</td>\n",
       "      <td>62509</td>\n",
       "      <td>62509</td>\n",
       "      <td>62509</td>\n",
       "      <td>62509</td>\n",
       "      <td>62509</td>\n",
       "      <td>62509</td>\n",
       "      <td>62509</td>\n",
       "      <td>62509</td>\n",
       "    </tr>\n",
       "    <tr>\n",
       "      <th>Yes</th>\n",
       "      <td>12535</td>\n",
       "      <td>12535</td>\n",
       "      <td>12535</td>\n",
       "      <td>12535</td>\n",
       "      <td>12535</td>\n",
       "      <td>12535</td>\n",
       "      <td>12535</td>\n",
       "      <td>12535</td>\n",
       "      <td>12535</td>\n",
       "    </tr>\n",
       "    <tr>\n",
       "      <th rowspan=\"2\" valign=\"top\">1</th>\n",
       "      <th>No</th>\n",
       "      <td>25698</td>\n",
       "      <td>25698</td>\n",
       "      <td>25698</td>\n",
       "      <td>25698</td>\n",
       "      <td>25698</td>\n",
       "      <td>25698</td>\n",
       "      <td>25698</td>\n",
       "      <td>25698</td>\n",
       "      <td>25698</td>\n",
       "    </tr>\n",
       "    <tr>\n",
       "      <th>Yes</th>\n",
       "      <td>9784</td>\n",
       "      <td>9784</td>\n",
       "      <td>9784</td>\n",
       "      <td>9784</td>\n",
       "      <td>9784</td>\n",
       "      <td>9784</td>\n",
       "      <td>9784</td>\n",
       "      <td>9784</td>\n",
       "      <td>9784</td>\n",
       "    </tr>\n",
       "  </tbody>\n",
       "</table>\n",
       "</div>"
      ],
      "text/plain": [
       "                      PatientId  Gender    Age  Neighbourhood  Scholarship  \\\n",
       "SMS_received No-show                                                         \n",
       "0            No           62509   62509  62509          62509        62509   \n",
       "             Yes          12535   12535  12535          12535        12535   \n",
       "1            No           25698   25698  25698          25698        25698   \n",
       "             Yes           9784    9784   9784           9784         9784   \n",
       "\n",
       "                      Hipertension  Diabetes  Alcoholism  Handcap  \n",
       "SMS_received No-show                                               \n",
       "0            No              62509     62509       62509    62509  \n",
       "             Yes             12535     12535       12535    12535  \n",
       "1            No              25698     25698       25698    25698  \n",
       "             Yes              9784      9784        9784     9784  "
      ]
     },
     "execution_count": 67,
     "metadata": {},
     "output_type": "execute_result"
    }
   ],
   "source": [
    "New.groupby([\"SMS_received\",\"No-show\"]).count()"
   ]
  },
  {
   "cell_type": "code",
   "execution_count": 68,
   "id": "926ef38b",
   "metadata": {
    "scrolled": true
   },
   "outputs": [
    {
     "name": "stdout",
     "output_type": "stream",
     "text": [
      "Come to the appointment and send him one message( 62510 )\n",
      "He did not show up for the appointment and sent him one message( 12535 )\n",
      "Come to the appointment and send him more than one message( 25698 )\n",
      "He didn ot show up for the appointment and sent him more than one message( 9784 )\n"
     ]
    }
   ],
   "source": [
    "Y1=62510\n",
    "N1=12535\n",
    "Y2=25698\n",
    "N2=9784\n",
    "print('Come to the appointment and send him one message(',Y1,')')\n",
    "print('He did not show up for the appointment and sent him one message(',N1,')')\n",
    "print('Come to the appointment and send him more than one message(',Y2,')')\n",
    "print('He didn ot show up for the appointment and sent him more than one message(',N2,')')"
   ]
  },
  {
   "cell_type": "code",
   "execution_count": 69,
   "id": "2d387c80",
   "metadata": {},
   "outputs": [
    {
     "data": {
      "image/png": "[encoded data removed]",
      "text/plain": [
       "<Figure size 432x288 with 1 Axes>"
      ]
     },
     "metadata": {
      "needs_background": "light"
     },
     "output_type": "display_data"
    }
   ],
   "source": [
    "I=['one message','more than one message']\n",
    "Yattended= [62510,25698]\n",
    "Znotattended= [12535,9784]\n",
    "I_axis= np.arange(len(I))\n",
    "plt.bar(I_axis-0.2,Yattended, 0.4, label='attended')\n",
    "plt.bar(I_axis+0.2,Znotattended, 0.4, label='not_attended')\n",
    "plt.xticks(I_axis, I)\n",
    "plt.xlabel(\"number of messages\")\n",
    "plt.ylabel(\"frequency\")\n",
    "plt.title(\"Evaluation the effect of the number of messages on the amount of commitment to attend\")\n",
    "plt.legend()\n",
    "plt.show()"
   ]
  },
  {
   "cell_type": "markdown",
   "id": "8593e247",
   "metadata": {},
   "source": [
    "Another graph.."
   ]
  },
  {
   "cell_type": "code",
   "execution_count": 70,
   "id": "3da79395",
   "metadata": {},
   "outputs": [
    {
     "data": {
      "image/png": "[encoded data removed]",
      "text/plain": [
       "<Figure size 432x288 with 1 Axes>"
      ]
     },
     "metadata": {},
     "output_type": "display_data"
    },
    {
     "data": {
      "image/png": "[encoded data removed]",
      "text/plain": [
       "<Figure size 432x288 with 1 Axes>"
      ]
     },
     "metadata": {},
     "output_type": "display_data"
    }
   ],
   "source": [
    "O= np.array([Y1,N1])\n",
    "mylabels= [\"one message (attendance) \",\"one message ( not attendance)\"]\n",
    "plt.pie(O, labels= mylabels)\n",
    "plt.title(\"Attendance rate of people who received one message\")\n",
    "plt.show()\n",
    "J= np.array([Y2,N2])\n",
    "mylabels= [\"more than one message (attendance) \",\"more than one message ( not attendance)\"]\n",
    "plt.pie(J, labels= mylabels)\n",
    "plt.title(\"Attendance rate of people who received more than one message\")\n",
    "\n",
    "plt.show()"
   ]
  },
  {
   "cell_type": "markdown",
   "id": "b97f6810",
   "metadata": {},
   "source": [
    "We note and it is clear that those who received more than one message are committed to appointments more than those who received one message, so we conclude that the increase in the number of messages sent to patients increases the percentage of their commitment to appointments."
   ]
  },
  {
   "cell_type": "markdown",
   "id": "2535ab0a",
   "metadata": {},
   "source": [
    "\n",
    "\n",
    "Seventh part:\n",
    "\n"
   ]
  },
  {
   "cell_type": "markdown",
   "id": "eea9d111",
   "metadata": {},
   "source": [
    "Here we will answer the first question, which is what are the important factors for patients to attend appointments, and from here we can summarize all the previous analyzes at this point."
   ]
  },
  {
   "cell_type": "markdown",
   "id": "a4f738c1",
   "metadata": {},
   "source": [
    "\n",
    "The columns in the table are:\n",
    "PatientId\t\n",
    "AppointmentID\t\n",
    "Gender\t\n",
    "ScheduledDay\t\n",
    "AppointmentDay\t\n",
    "Age\t\n",
    "Neighbourhood\t\n",
    "Scholarship\t\n",
    "Hipertension\t\n",
    "Diabetes\t\n",
    "Alcoholism\t\n",
    "Handcap\t\n",
    "SMS_received\t\n",
    "No-show\n",
    "\n",
    "What will be the role of each column in patients adherence to appointments?? Some columns may be useless in patients' commitment to appointments.."
   ]
  },
  {
   "cell_type": "markdown",
   "id": "b1f23cae",
   "metadata": {},
   "source": [
    "\n",
    "\n",
    "1- SMS_received\n",
    "The arrival of reminders for patients is very useful in reminding patients of their appointments, and this was clarified in the sixth part, so that the percentage of patients who received more than one message was higher than the percentage of patients who received only one message.\n",
    "\n",
    "2- Neighbourhood\n",
    "Neighborhoods may affect patients’ commitment to appointments so that when the neighborhood is close to the health center, this makes it easier for the patient to reach quickly and vice versa, and like what we mentioned may be a reason for commitment and lack of commitment and not always.\n",
    "\n",
    "3- Hipertension\tand Diabetes \n",
    "People with chronic diseases such as diabetes and high blood pressure, their attendance at health centers is important, as it cannot be neglected appointments because this will affect their health negatively.\n"
   ]
  },
  {
   "cell_type": "markdown",
   "id": "3fb5615e",
   "metadata": {},
   "source": [
    "                                             \n",
    "                                             \n",
    "                                             \n",
    "                                               \n",
    "                                               \n",
    "                                                  ..THE END.."
   ]
  }
 ],
 "metadata": {
  "kernelspec": {
   "display_name": "Python 3",
   "language": "python",
   "name": "python3"
  },
  "language_info": {
   "codemirror_mode": {
    "name": "ipython",
    "version": 3
   },
   "file_extension": ".py",
   "mimetype": "text/x-python",
   "name": "python",
   "nbconvert_exporter": "python",
   "pygments_lexer": "ipython3",
   "version": "3.8.10"
  }
 },
 "nbformat": 4,
 "nbformat_minor": 5
}
